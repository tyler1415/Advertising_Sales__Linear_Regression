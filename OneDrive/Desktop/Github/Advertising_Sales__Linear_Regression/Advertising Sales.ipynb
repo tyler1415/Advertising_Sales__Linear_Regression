{
 "cells": [
  {
   "cell_type": "markdown",
   "id": "57b3ba18",
   "metadata": {},
   "source": [
    "# Import Libraries"
   ]
  },
  {
   "cell_type": "code",
   "execution_count": 483,
   "id": "473b95f3",
   "metadata": {},
   "outputs": [],
   "source": [
    "import numpy as np\n",
    "import pandas as pd\n",
    "import matplotlib.pyplot as plt\n",
    "import statsmodels.api as sm\n",
    "import itertools\n",
    "import time\n",
    "from sklearn.preprocessing import scale\n",
    "from sklearn.preprocessing import PolynomialFeatures\n",
    "from scipy import stats\n",
    "from scipy.stats import kstest\n",
    "from sklearn.model_selection import KFold\n",
    "from sklearn.metrics import mean_squared_error\n"
   ]
  },
  {
   "cell_type": "markdown",
   "id": "ae29ac2f",
   "metadata": {},
   "source": [
    "# Import Data"
   ]
  },
  {
   "cell_type": "code",
   "execution_count": 489,
   "id": "53455a05",
   "metadata": {},
   "outputs": [
    {
     "data": {
      "text/html": [
       "<div>\n",
       "<style scoped>\n",
       "    .dataframe tbody tr th:only-of-type {\n",
       "        vertical-align: middle;\n",
       "    }\n",
       "\n",
       "    .dataframe tbody tr th {\n",
       "        vertical-align: top;\n",
       "    }\n",
       "\n",
       "    .dataframe thead th {\n",
       "        text-align: right;\n",
       "    }\n",
       "</style>\n",
       "<table border=\"1\" class=\"dataframe\">\n",
       "  <thead>\n",
       "    <tr style=\"text-align: right;\">\n",
       "      <th></th>\n",
       "      <th>TV</th>\n",
       "      <th>Radio</th>\n",
       "      <th>Newspaper</th>\n",
       "      <th>Sales</th>\n",
       "    </tr>\n",
       "  </thead>\n",
       "  <tbody>\n",
       "    <tr>\n",
       "      <th>0</th>\n",
       "      <td>15.169047</td>\n",
       "      <td>6.148170</td>\n",
       "      <td>8.318654</td>\n",
       "      <td>4.701064</td>\n",
       "    </tr>\n",
       "    <tr>\n",
       "      <th>1</th>\n",
       "      <td>6.670832</td>\n",
       "      <td>6.268971</td>\n",
       "      <td>6.715653</td>\n",
       "      <td>3.224903</td>\n",
       "    </tr>\n",
       "    <tr>\n",
       "      <th>2</th>\n",
       "      <td>4.147288</td>\n",
       "      <td>6.774954</td>\n",
       "      <td>8.324662</td>\n",
       "      <td>3.049590</td>\n",
       "    </tr>\n",
       "    <tr>\n",
       "      <th>3</th>\n",
       "      <td>12.308534</td>\n",
       "      <td>6.426508</td>\n",
       "      <td>7.648529</td>\n",
       "      <td>4.301163</td>\n",
       "    </tr>\n",
       "    <tr>\n",
       "      <th>4</th>\n",
       "      <td>13.446189</td>\n",
       "      <td>3.286335</td>\n",
       "      <td>7.641989</td>\n",
       "      <td>3.591657</td>\n",
       "    </tr>\n",
       "    <tr>\n",
       "      <th>...</th>\n",
       "      <td>...</td>\n",
       "      <td>...</td>\n",
       "      <td>...</td>\n",
       "      <td>...</td>\n",
       "    </tr>\n",
       "    <tr>\n",
       "      <th>195</th>\n",
       "      <td>6.180615</td>\n",
       "      <td>1.923538</td>\n",
       "      <td>3.714835</td>\n",
       "      <td>2.756810</td>\n",
       "    </tr>\n",
       "    <tr>\n",
       "      <th>196</th>\n",
       "      <td>9.705668</td>\n",
       "      <td>2.213594</td>\n",
       "      <td>2.846050</td>\n",
       "      <td>3.114482</td>\n",
       "    </tr>\n",
       "    <tr>\n",
       "      <th>197</th>\n",
       "      <td>13.304135</td>\n",
       "      <td>3.049590</td>\n",
       "      <td>2.529822</td>\n",
       "      <td>3.577709</td>\n",
       "    </tr>\n",
       "    <tr>\n",
       "      <th>198</th>\n",
       "      <td>16.840428</td>\n",
       "      <td>6.480741</td>\n",
       "      <td>8.136338</td>\n",
       "      <td>5.049752</td>\n",
       "    </tr>\n",
       "    <tr>\n",
       "      <th>199</th>\n",
       "      <td>15.234829</td>\n",
       "      <td>2.932576</td>\n",
       "      <td>2.949576</td>\n",
       "      <td>3.660601</td>\n",
       "    </tr>\n",
       "  </tbody>\n",
       "</table>\n",
       "<p>200 rows × 4 columns</p>\n",
       "</div>"
      ],
      "text/plain": [
       "            TV     Radio  Newspaper     Sales\n",
       "0    15.169047  6.148170   8.318654  4.701064\n",
       "1     6.670832  6.268971   6.715653  3.224903\n",
       "2     4.147288  6.774954   8.324662  3.049590\n",
       "3    12.308534  6.426508   7.648529  4.301163\n",
       "4    13.446189  3.286335   7.641989  3.591657\n",
       "..         ...       ...        ...       ...\n",
       "195   6.180615  1.923538   3.714835  2.756810\n",
       "196   9.705668  2.213594   2.846050  3.114482\n",
       "197  13.304135  3.049590   2.529822  3.577709\n",
       "198  16.840428  6.480741   8.136338  5.049752\n",
       "199  15.234829  2.932576   2.949576  3.660601\n",
       "\n",
       "[200 rows x 4 columns]"
      ]
     },
     "execution_count": 489,
     "metadata": {},
     "output_type": "execute_result"
    }
   ],
   "source": [
    "# Import Data\n",
    "data = pd.read_csv(r\"C:\\Users\\tgmce\\Downloads\\Advertising Budget and Sales.csv\")\n",
    "\n",
    "# Rename columns\n",
    "data = data.rename(columns = {'Unnamed: 0': 'Campaign', 'TV Ad Budget ($)': 'TV', 'Radio Ad Budget ($)': 'Radio',\n",
    "                              'Newspaper Ad Budget ($)': 'Newspaper', 'Sales ($)': 'Sales'})\n",
    "\n",
    "# Put data into thousands of dollars. Columns are transformed using the square root function to help normalize the data.\n",
    "data['TV'] = data['TV'].apply(lambda x: np.sqrt(x))\n",
    "data['Radio'] = data['Radio'].apply(lambda x: np.sqrt(x))\n",
    "data['Newspaper'] = data['Newspaper'].apply(lambda x: np.sqrt(x))\n",
    "data['Sales'] = data['Sales'].apply(lambda x: np.sqrt(x))\n",
    "\n",
    "# Remove Campaign column\n",
    "data = data.drop('Campaign', axis = 1)\n",
    "\n",
    "# Read data\n",
    "data"
   ]
  },
  {
   "cell_type": "markdown",
   "id": "4b050f06",
   "metadata": {},
   "source": [
    "# Check for Missing Values"
   ]
  },
  {
   "cell_type": "code",
   "execution_count": 441,
   "id": "cda6b852",
   "metadata": {},
   "outputs": [
    {
     "name": "stdout",
     "output_type": "stream",
     "text": [
      "TV           0\n",
      "Radio        0\n",
      "Newspaper    0\n",
      "Sales        0\n",
      "dtype: int64\n"
     ]
    }
   ],
   "source": [
    "# There are no missing values in the dataset\n",
    "print(data.isna().sum())"
   ]
  },
  {
   "cell_type": "markdown",
   "id": "2a81f3d8",
   "metadata": {},
   "source": [
    "# Check for Correlation between Variables "
   ]
  },
  {
   "cell_type": "code",
   "execution_count": 475,
   "id": "019598d7",
   "metadata": {},
   "outputs": [
    {
     "data": {
      "text/html": [
       "<div>\n",
       "<style scoped>\n",
       "    .dataframe tbody tr th:only-of-type {\n",
       "        vertical-align: middle;\n",
       "    }\n",
       "\n",
       "    .dataframe tbody tr th {\n",
       "        vertical-align: top;\n",
       "    }\n",
       "\n",
       "    .dataframe thead th {\n",
       "        text-align: right;\n",
       "    }\n",
       "</style>\n",
       "<table border=\"1\" class=\"dataframe\">\n",
       "  <thead>\n",
       "    <tr style=\"text-align: right;\">\n",
       "      <th></th>\n",
       "      <th>TV</th>\n",
       "      <th>Radio</th>\n",
       "      <th>Newspaper</th>\n",
       "      <th>Sales</th>\n",
       "    </tr>\n",
       "  </thead>\n",
       "  <tbody>\n",
       "    <tr>\n",
       "      <th>TV</th>\n",
       "      <td>1.000000</td>\n",
       "      <td>0.039989</td>\n",
       "      <td>0.041734</td>\n",
       "      <td>0.820471</td>\n",
       "    </tr>\n",
       "    <tr>\n",
       "      <th>Radio</th>\n",
       "      <td>0.039989</td>\n",
       "      <td>1.000000</td>\n",
       "      <td>0.293695</td>\n",
       "      <td>0.532389</td>\n",
       "    </tr>\n",
       "    <tr>\n",
       "      <th>Newspaper</th>\n",
       "      <td>0.041734</td>\n",
       "      <td>0.293695</td>\n",
       "      <td>1.000000</td>\n",
       "      <td>0.201606</td>\n",
       "    </tr>\n",
       "    <tr>\n",
       "      <th>Sales</th>\n",
       "      <td>0.820471</td>\n",
       "      <td>0.532389</td>\n",
       "      <td>0.201606</td>\n",
       "      <td>1.000000</td>\n",
       "    </tr>\n",
       "  </tbody>\n",
       "</table>\n",
       "</div>"
      ],
      "text/plain": [
       "                 TV     Radio  Newspaper     Sales\n",
       "TV         1.000000  0.039989   0.041734  0.820471\n",
       "Radio      0.039989  1.000000   0.293695  0.532389\n",
       "Newspaper  0.041734  0.293695   1.000000  0.201606\n",
       "Sales      0.820471  0.532389   0.201606  1.000000"
      ]
     },
     "execution_count": 475,
     "metadata": {},
     "output_type": "execute_result"
    }
   ],
   "source": [
    "data.corr()"
   ]
  },
  {
   "cell_type": "markdown",
   "id": "f5e14505",
   "metadata": {},
   "source": [
    "# Scatterplot of Independent Variables"
   ]
  },
  {
   "cell_type": "code",
   "execution_count": 442,
   "id": "5bd8a858",
   "metadata": {},
   "outputs": [
    {
     "data": {
      "text/plain": [
       "Text(0.5, 1.0, 'Newspaper')"
      ]
     },
     "execution_count": 442,
     "metadata": {},
     "output_type": "execute_result"
    },
    {
     "data": {
      "image/png": "[encoded data removed]",
      "text/plain": [
       "<Figure size 1440x720 with 3 Axes>"
      ]
     },
     "metadata": {
      "needs_background": "light"
     },
     "output_type": "display_data"
    }
   ],
   "source": [
    "# Three scatter plots of the original data. TV and Radio show a positive, somewhat linear realtionship. Newspaper shows a weak, positive relationship.\n",
    "figure, axis = plt.subplots(1, 3, figsize = (20,10))\n",
    "\n",
    "axis[0].scatter(data.TV, data.Sales)\n",
    "axis[0].set_title(\"TV\")\n",
    "axis[0].set_ylabel('Sales')\n",
    "\n",
    "axis[1].scatter(data.Radio, data.Sales)\n",
    "axis[1].set_title(\"Radio\")\n",
    "\n",
    "axis[2].scatter(data.Newspaper, data.Sales)\n",
    "axis[2].set_title(\"Newspaper\")\n",
    "\n"
   ]
  },
  {
   "cell_type": "markdown",
   "id": "be3e2812",
   "metadata": {},
   "source": [
    "# Build Initial Model"
   ]
  },
  {
   "cell_type": "code",
   "execution_count": 443,
   "id": "cb4c9fdd",
   "metadata": {},
   "outputs": [
    {
     "name": "stdout",
     "output_type": "stream",
     "text": [
      "                            OLS Regression Results                            \n",
      "==============================================================================\n",
      "Dep. Variable:                  Sales   R-squared:                       0.924\n",
      "Model:                            OLS   Adj. R-squared:                  0.922\n",
      "Method:                 Least Squares   F-statistic:                     790.3\n",
      "Date:                Sun, 30 Apr 2023   Prob (F-statistic):          3.55e-109\n",
      "Time:                        21:07:28   Log-Likelihood:                 42.500\n",
      "No. Observations:                 200   AIC:                            -77.00\n",
      "Df Residuals:                     196   BIC:                            -63.81\n",
      "Df Model:                           3                                         \n",
      "Covariance Type:            nonrobust                                         \n",
      "==============================================================================\n",
      "                 coef    std err          t      P>|t|      [0.025      0.975]\n",
      "------------------------------------------------------------------------------\n",
      "const          1.1848      0.059     20.151      0.000       1.069       1.301\n",
      "TV             0.1372      0.003     40.468      0.000       0.131       0.144\n",
      "Radio          0.1975      0.008     23.894      0.000       0.181       0.214\n",
      "Newspaper      0.0081      0.007      1.126      0.261      -0.006       0.022\n",
      "==============================================================================\n",
      "Omnibus:                       78.935   Durbin-Watson:                   1.977\n",
      "Prob(Omnibus):                  0.000   Jarque-Bera (JB):              698.675\n",
      "Skew:                          -1.221   Prob(JB):                    1.93e-152\n",
      "Kurtosis:                      11.825   Cond. No.                         58.5\n",
      "==============================================================================\n",
      "\n",
      "Notes:\n",
      "[1] Standard Errors assume that the covariance matrix of the errors is correctly specified.\n"
     ]
    }
   ],
   "source": [
    "# Build initial model. Initial R2 is 0.924\n",
    "ols = sm.OLS(data.iloc[:, -1:], sm.add_constant(data.iloc[:, :-1]))\n",
    "lm = ols.fit()\n",
    "print(lm.summary())"
   ]
  },
  {
   "cell_type": "markdown",
   "id": "8c3b0524",
   "metadata": {},
   "source": [
    "# Scatterplot of Residuals"
   ]
  },
  {
   "cell_type": "code",
   "execution_count": 444,
   "id": "4ad33142",
   "metadata": {},
   "outputs": [
    {
     "data": {
      "text/plain": [
       "Text(0, 0.5, 'Residuals')"
      ]
     },
     "execution_count": 444,
     "metadata": {},
     "output_type": "execute_result"
    },
    {
     "data": {
      "image/png": "[encoded data removed]",
      "text/plain": [
       "<Figure size 864x432 with 1 Axes>"
      ]
     },
     "metadata": {
      "needs_background": "light"
     },
     "output_type": "display_data"
    }
   ],
   "source": [
    "# Scatterplot of residuals to fitted values.There is a slight curve to the scatterplot, indicating a potential violation of the zero mean assumption.\n",
    "fitted_y = lm.fittedvalues\n",
    "residual = lm.resid\n",
    "plt.figure(figsize=(12,6))\n",
    "plt.scatter(fitted_y,residual)\n",
    "plt.title('Residuals v.s. Fitted')\n",
    "plt.xlabel('Fitted values')\n",
    "plt.ylabel('Residuals')"
   ]
  },
  {
   "cell_type": "markdown",
   "id": "c83a30ec",
   "metadata": {},
   "source": [
    "# Q-Q Plot"
   ]
  },
  {
   "cell_type": "code",
   "execution_count": 445,
   "id": "6ae55286",
   "metadata": {},
   "outputs": [
    {
     "data": {
      "text/plain": [
       "<Figure size 864x432 with 0 Axes>"
      ]
     },
     "execution_count": 445,
     "metadata": {},
     "output_type": "execute_result"
    },
    {
     "data": {
      "image/png": "[encoded data removed]",
      "text/plain": [
       "<Figure size 432x288 with 1 Axes>"
      ]
     },
     "metadata": {
      "needs_background": "light"
     },
     "output_type": "display_data"
    },
    {
     "data": {
      "text/plain": [
       "<Figure size 864x432 with 0 Axes>"
      ]
     },
     "metadata": {},
     "output_type": "display_data"
    }
   ],
   "source": [
    "# One end of the Q-Q plot is off the diagonal line. This means that the normality assumption may be violated.However, it is good enough to continue.\n",
    "residual_norm = scale(residual)\n",
    "sm.qqplot(residual_norm, line='45')\n",
    "plt.figure(figsize=(12,6))"
   ]
  },
  {
   "cell_type": "markdown",
   "id": "4a74f6b6",
   "metadata": {},
   "source": [
    "# Histogram Plot"
   ]
  },
  {
   "cell_type": "code",
   "execution_count": 431,
   "id": "975bd7ce",
   "metadata": {
    "scrolled": true
   },
   "outputs": [
    {
     "data": {
      "text/plain": [
       "Text(0, 0.5, 'Frequency')"
      ]
     },
     "execution_count": 431,
     "metadata": {},
     "output_type": "execute_result"
    },
    {
     "data": {
      "image/png": "[encoded data removed]",
      "text/plain": [
       "<Figure size 432x288 with 1 Axes>"
      ]
     },
     "metadata": {
      "needs_background": "light"
     },
     "output_type": "display_data"
    }
   ],
   "source": [
    "# Normal distribution is skewed left, with several outliers. The histogram is approximately normal.\n",
    "plt.hist(x=residual_norm, bins='auto', rwidth=0.85)\n",
    "plt.title('Histogram for standardized residuals')\n",
    "plt.xlabel('Standardized residuals')\n",
    "plt.ylabel('Frequency')"
   ]
  },
  {
   "cell_type": "markdown",
   "id": "70e7db4b",
   "metadata": {},
   "source": [
    "# Outlier Detection and Evaluation"
   ]
  },
  {
   "cell_type": "code",
   "execution_count": 433,
   "id": "0ae4496f",
   "metadata": {},
   "outputs": [
    {
     "data": {
      "text/plain": [
       "Text(0, 0.5, 'Cooks Distance')"
      ]
     },
     "execution_count": 433,
     "metadata": {},
     "output_type": "execute_result"
    },
    {
     "data": {
      "image/png": "[encoded data removed]",
      "text/plain": [
       "<Figure size 576x288 with 1 Axes>"
      ]
     },
     "metadata": {
      "needs_background": "light"
     },
     "output_type": "display_data"
    }
   ],
   "source": [
    "cooks = lm.get_influence().cooks_distance[0]\n",
    "data[cooks > 1]\n",
    "plt.figure(figsize = (8, 4))\n",
    "plt.scatter(data.index, cooks)\n",
    "plt.xlabel('Index')\n",
    "plt.ylabel('Cooks Distance')"
   ]
  },
  {
   "cell_type": "code",
   "execution_count": 434,
   "id": "b195ae83",
   "metadata": {},
   "outputs": [
    {
     "data": {
      "text/html": [
       "<div>\n",
       "<style scoped>\n",
       "    .dataframe tbody tr th:only-of-type {\n",
       "        vertical-align: middle;\n",
       "    }\n",
       "\n",
       "    .dataframe tbody tr th {\n",
       "        vertical-align: top;\n",
       "    }\n",
       "\n",
       "    .dataframe thead th {\n",
       "        text-align: right;\n",
       "    }\n",
       "</style>\n",
       "<table border=\"1\" class=\"dataframe\">\n",
       "  <thead>\n",
       "    <tr style=\"text-align: right;\">\n",
       "      <th></th>\n",
       "      <th>TV</th>\n",
       "      <th>Radio</th>\n",
       "      <th>Newspaper</th>\n",
       "      <th>Sales</th>\n",
       "    </tr>\n",
       "  </thead>\n",
       "  <tbody>\n",
       "    <tr>\n",
       "      <th>130</th>\n",
       "      <td>0.83666</td>\n",
       "      <td>6.292853</td>\n",
       "      <td>2.949576</td>\n",
       "      <td>1.264911</td>\n",
       "    </tr>\n",
       "  </tbody>\n",
       "</table>\n",
       "</div>"
      ],
      "text/plain": [
       "          TV     Radio  Newspaper     Sales\n",
       "130  0.83666  6.292853   2.949576  1.264911"
      ]
     },
     "execution_count": 434,
     "metadata": {},
     "output_type": "execute_result"
    }
   ],
   "source": [
    "# Check outlier with large cook's distance value\n",
    "data[abs(residual_norm) > 3]"
   ]
  },
  {
   "cell_type": "markdown",
   "id": "943d8581",
   "metadata": {},
   "source": [
    "# Best Subset Selection "
   ]
  },
  {
   "cell_type": "code",
   "execution_count": 451,
   "id": "bf3c56f8",
   "metadata": {},
   "outputs": [],
   "source": [
    "# Define the function \"fit_lm\" with the input as a set of selected features, \n",
    "# and output be the fitted model with corresponding RSS, adjust R-square, AIC, and BIC. \n",
    "# RSS is calculated following the formula: RSS = \\sum (y_hat-y)^2\n",
    "# Adjusted R-square, AIC, and BIC can be reported from the model directly.\n",
    "\n",
    "def fit_lm(feature_set):\n",
    "    ols = sm.OLS(data.Sales, sm.add_constant(data[list(feature_set)]))\n",
    "    lm = ols.fit()\n",
    "    RSS = ((lm.predict(sm.add_constant(data[list(feature_set)])) - data.Sales) ** 2).sum()\n",
    "    rsquared_adj = lm.rsquared_adj\n",
    "    AIC = lm.aic\n",
    "    BIC = lm.bic\n",
    "    return {\"model\":lm, \"RSS\":RSS, \"Rsquared_adj\": rsquared_adj, \"AIC\":AIC, \"BIC\": BIC}\n",
    "\n",
    "# Define the function \"getbest\" with the input as the number of selected features, \n",
    "# and the output as the best model given the pre-specified number of features.\n",
    "# Here, the best model refers to the one with the lowest RSS as they are all equally complicated (same number of features)\n",
    "\n",
    "def getbest(k):\n",
    "    result = []\n",
    "    for combo in itertools.combinations(data.columns[:-1], k):\n",
    "        result.append(fit_lm(combo))\n",
    "    models = pd.DataFrame(result)\n",
    "    best_model = models.loc[models['RSS'].argmin()]\n",
    "    return best_model"
   ]
  },
  {
   "cell_type": "code",
   "execution_count": 477,
   "id": "f8b70589",
   "metadata": {},
   "outputs": [
    {
     "name": "stdout",
     "output_type": "stream",
     "text": [
      "                                               model         RSS Rsquared_adj  \\\n",
      "0  <statsmodels.regression.linear_model.Regressio...  100.266015         -0.0   \n",
      "1  <statsmodels.regression.linear_model.Regressio...   32.769649     0.671522   \n",
      "2  <statsmodels.regression.linear_model.Regressio...    7.705211     0.922372   \n",
      "3  <statsmodels.regression.linear_model.Regressio...    7.655655     0.922478   \n",
      "\n",
      "          AIC         BIC  \n",
      "0  431.477301  434.775618  \n",
      "1  209.812489  216.409123  \n",
      "2  -77.708692   -67.81374  \n",
      "3  -76.999149   -63.80588  \n",
      "Best subset selection takes: 0.15701699256896973 seconds\n",
      "                            OLS Regression Results                            \n",
      "==============================================================================\n",
      "Dep. Variable:                  Sales   R-squared:                       0.923\n",
      "Model:                            OLS   Adj. R-squared:                  0.922\n",
      "Method:                 Least Squares   F-statistic:                     1183.\n",
      "Date:                Sun, 30 Apr 2023   Prob (F-statistic):          1.72e-110\n",
      "Time:                        21:44:08   Log-Likelihood:                 41.854\n",
      "No. Observations:                 200   AIC:                            -77.71\n",
      "Df Residuals:                     197   BIC:                            -67.81\n",
      "Df Model:                           2                                         \n",
      "Covariance Type:            nonrobust                                         \n",
      "==============================================================================\n",
      "                 coef    std err          t      P>|t|      [0.025      0.975]\n",
      "------------------------------------------------------------------------------\n",
      "const          1.2128      0.053     22.757      0.000       1.108       1.318\n",
      "TV             0.1373      0.003     40.496      0.000       0.131       0.144\n",
      "Radio          0.2002      0.008     25.315      0.000       0.185       0.216\n",
      "==============================================================================\n",
      "Omnibus:                       82.523   Durbin-Watson:                   2.007\n",
      "Prob(Omnibus):                  0.000   Jarque-Bera (JB):              781.875\n",
      "Skew:                          -1.271   Prob(JB):                    1.65e-170\n",
      "Kurtosis:                      12.347   Cond. No.                         49.5\n",
      "==============================================================================\n",
      "\n",
      "Notes:\n",
      "[1] Standard Errors assume that the covariance matrix of the errors is correctly specified.\n"
     ]
    }
   ],
   "source": [
    "# We find the best models with the optimal number features, and report the corresponding RSS, adjusted R-square, AIC, BIC.\n",
    "\n",
    "models_best = pd.DataFrame(columns=[\"model\",\"RSS\",\"Rsquared_adj\",\"AIC\",\"BIC\"])\n",
    "start = time.time()\n",
    "for i in range(0,4):\n",
    "    models_best.loc[i] = getbest(i)\n",
    "end = time.time()\n",
    "print(models_best)\n",
    "print(\"Best subset selection takes:\", end-start, \"seconds\")\n",
    "print(models_best.loc[2, \"model\"].summary())"
   ]
  },
  {
   "cell_type": "code",
   "execution_count": 490,
   "id": "2b58c71a",
   "metadata": {},
   "outputs": [
    {
     "data": {
      "text/plain": [
       "Text(0, 0.5, 'bic')"
      ]
     },
     "execution_count": 490,
     "metadata": {},
     "output_type": "execute_result"
    },
    {
     "data": {
      "image/png": "[encoded data removed]",
      "text/plain": [
       "<Figure size 1440x720 with 4 Axes>"
      ]
     },
     "metadata": {
      "needs_background": "light"
     },
     "output_type": "display_data"
    }
   ],
   "source": [
    "# The optimal number of features for the model is 2, per the charts below.\n",
    "plt.figure(figsize=(20,10))\n",
    "plt_rss = plt.subplot(2, 2, 1)\n",
    "plt.plot(models_best[\"RSS\"])\n",
    "plt.xlabel('# Predictors')\n",
    "plt.ylabel('RSS')\n",
    "plt.subplot(2, 2, 2)\n",
    "plt.plot(models_best[\"Rsquared_adj\"])\n",
    "plt.xlabel('# Predictors')\n",
    "plt.ylabel('Rsquared_adj')\n",
    "plt.subplot(2, 2, 3)\n",
    "plt.plot(models_best[\"AIC\"])\n",
    "plt.xlabel('# Predictors')\n",
    "plt.ylabel('aic')\n",
    "plt.subplot(2, 2, 4)\n",
    "plt.plot(models_best[\"BIC\"])\n",
    "plt.xlabel('# Predictors')\n",
    "plt.ylabel('bic')"
   ]
  },
  {
   "cell_type": "markdown",
   "id": "fea8f90b",
   "metadata": {},
   "source": [
    "# K-fold Cross Validation"
   ]
  },
  {
   "cell_type": "code",
   "execution_count": 487,
   "id": "73cd8871",
   "metadata": {},
   "outputs": [
    {
     "name": "stdout",
     "output_type": "stream",
     "text": [
      "Errors:  [0.03522540960000737, 0.09211818255790809, 0.016406325756942442, 0.03286263953107467, 0.02679652837139803]\n",
      "Average MSE:  0.040681817163466125\n"
     ]
    }
   ],
   "source": [
    "# Define variables used to obtain testing error.\n",
    "cv = KFold(n_splits=5, shuffle=True)\n",
    "x = data.iloc[:, :-1]\n",
    "y = data.iloc[:, -1:]\n",
    "error = []\n",
    "\n",
    "for train_index, test_index in cv.split(data):\n",
    "    x_train, x_test = x.iloc[train_index], x.iloc[test_index]\n",
    "    y_train, y_test = y.iloc[train_index], y.iloc[test_index]\n",
    "    \n",
    "    ols = sm.OLS(y_train[[\"Sales\"]], sm.add_constant(x_train[[\"TV\", \"Radio\"]]))\n",
    "    lm = ols.fit()\n",
    "    y_pred = lm.predict(sm.add_constant(x_test[[\"TV\", \"Radio\"]]))\n",
    "    error.append(mean_squared_error(y_pred,y_test[[\"Sales\"]]))\n",
    "     \n",
    "# 5 total testing errors stored in a list\n",
    "print('Errors: ', error)\n",
    "# The average MSE comes out to apprx. 0.0407.\n",
    "print('Average MSE: ', np.mean(error))"
   ]
  }
 ],
 "metadata": {
  "kernelspec": {
   "display_name": "Python 3 (ipykernel)",
   "language": "python",
   "name": "python3"
  },
  "language_info": {
   "codemirror_mode": {
    "name": "ipython",
    "version": 3
   },
   "file_extension": ".py",
   "mimetype": "text/x-python",
   "name": "python",
   "nbconvert_exporter": "python",
   "pygments_lexer": "ipython3",
   "version": "3.9.12"
  }
 },
 "nbformat": 4,
 "nbformat_minor": 5
}
